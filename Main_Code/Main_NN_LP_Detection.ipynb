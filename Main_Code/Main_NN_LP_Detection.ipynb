{
 "cells": [
  {
   "cell_type": "code",
   "execution_count": null,
   "metadata": {},
   "outputs": [],
   "source": [
    "'''\n",
    "MAIN NEURAL NETWORK LICNESE PLATE DETECTION\n",
    "Created by: Maryam Hanna\n",
    "July 3, 2019\n",
    "Email: maryamhanna@hotmail.com\n",
    "This algorithm does what the user wants, which is create a data cvs, train a neural network, \n",
    "test a neural network, find the location of the license plate in raw image using a model, or \n",
    "detecting the distance of the detected license plate. \n",
    "'''"
   ]
  },
  {
   "cell_type": "code",
   "execution_count": null,
   "metadata": {},
   "outputs": [],
   "source": [
    "# importing required libraries\n",
    "import csv\n",
    "import numpy as np\n",
    "import random\n",
    "import os\n",
    "from PIL import Image\n",
    "from sklearn.model_selection import train_test_split\n",
    "import cv2\n",
    "from sklearn.utils import shuffle\n",
    "from keras import backend as K\n",
    "import tensorflow as tf\n",
    "from keras.layers import Sequential, Flatten, Dense, MaxPooling2D, Dropout\n",
    "from keras.layers.core import Activation\n",
    "from keras.layers.convolutional import Conv2D\n",
    "from keras.callbacks import ModelCheckpoint, TensorBoard\n",
    "from keras.optimizers import Adam\n",
    "import keras.optimizers\n",
    "import matplotlib.pyplot as plt\n",
    "from scipy.ndimage.measurements import label\n",
    "# importing other files\n",
    "from CSV_Maker import *\n",
    "from Final_Neural_Network import *\n",
    "from Neural_Network_Tester import *\n",
    "from License_Plate_Localization import *\n",
    "from License_Plate_Distance_Detection import *"
   ]
  },
  {
   "cell_type": "code",
   "execution_count": null,
   "metadata": {},
   "outputs": [],
   "source": [
    "# requirements to call on creating csv function\n",
    "create_csv = True\n",
    "dir_loc = \"C:/Users/wicip/Desktop/\"\n",
    "not_plates_file = \"no_plate\"\n",
    "plates_file = \"plates\"\n",
    "savefile = \"data_test.csv\"\n",
    "# requirements to call on training neural network function\n",
    "train_nn = True\n",
    "data_loc = \"C:/Users/wicip/Documents/working_nn/final/data.csv\"\n",
    "dropout_precent = 0.1\n",
    "dense_layers = 1 \n",
    "conv_layers = 3 \n",
    "layer_size = 64  \n",
    "batch_size = 8 \n",
    "learning_rate = 0.00001 \n",
    "learning_decay = 1e-6\n",
    "epochs = 10\n",
    "savemodel_loc = \"C:/Users/wicip/Documents/working_nn/final/\""
   ]
  },
  {
   "cell_type": "code",
   "execution_count": null,
   "metadata": {},
   "outputs": [],
   "source": [
    "# requirements to call on neural network tester function\n",
    "test_nn = True\n",
    "test_data = \"C:/Users/wicip/Documents/working_nn/final/data_test.csv\"\n",
    "test_model = \"C:/Users/wicip/Documents/working_nn/final/drop20_dense1_con4_size64_FINAL.model\"\n",
    "# requirements to call on license plate localization function\n",
    "localization = True\n",
    "image = \"C:/Users/wicip/Documents/working_nn/final/test1.JPG\"\n",
    "model = \"C:/Users/wicip/Documents/working_nn/final/3-128-2-1553464259.model\"\n",
    "x_range = [None, None]\n",
    "y_range = [250, 360]\n",
    "pix_range = [7, 95]\n",
    "xy_overlap = (0.3, 0.3)\n"
   ]
  },
  {
   "cell_type": "code",
   "execution_count": null,
   "metadata": {},
   "outputs": [],
   "source": [
    "# there are no requirements to call on distance detection function, but user must run localization function as well, since distance detection function depends on the localization function\n",
    "distance_detection = True\n",
    "## DO NOT EDIT BELOW HERE ##\n",
    "if create_csv:\n",
    "    create_csv(dir_loc, not_plates_file, plates_file, savefile)\n",
    "if train_nn:\n",
    "    train_neural_network(data_loc, \n",
    "                         dropout_precent, \n",
    "                         dense_layers,\n",
    "                         conv_layers,\n",
    "                         layer_size, \n",
    "                         batch_size, \n",
    "                         learning_rate, \n",
    "                         learning_decay, \n",
    "                         epochs, \n",
    "                         savemodel_loc)\n",
    "if test_nn:\n",
    "    test_neural_network(test_data, test_model) \n",
    "if localization:\n",
    "    labels = locate(model, image, \n",
    "           x_range_ = x_range,\n",
    "          y_range_ = y_range,\n",
    "          pix_range_ = pix_range, \n",
    "          xy_overlap_ = xy_overlap)   \n",
    "if localization and distance_detection:\n",
    "    dist_detect(image, labels)\n",
    "elif distance_detection and not localization:\n",
    "    print(\"Must construct localization algorithm to run distance_detection algorithm\")\n",
    "# END CODE \n"
   ]
  }
 ],
 "metadata": {
  "kernelspec": {
   "display_name": "Python 3",
   "language": "python",
   "name": "python3"
  },
  "language_info": {
   "codemirror_mode": {
    "name": "ipython",
    "version": 3
   },
   "file_extension": ".py",
   "mimetype": "text/x-python",
   "name": "python",
   "nbconvert_exporter": "python",
   "pygments_lexer": "ipython3",
   "version": "3.7.1"
  }
 },
 "nbformat": 4,
 "nbformat_minor": 2
}
